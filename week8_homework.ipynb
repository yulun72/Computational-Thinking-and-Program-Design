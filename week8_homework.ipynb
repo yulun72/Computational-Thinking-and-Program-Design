{
  "nbformat": 4,
  "nbformat_minor": 0,
  "metadata": {
    "colab": {
      "name": "week8 homework.ipynb",
      "provenance": [],
      "collapsed_sections": []
    },
    "kernelspec": {
      "name": "python3",
      "display_name": "Python 3"
    }
  },
  "cells": [
    {
      "cell_type": "code",
      "metadata": {
        "id": "_UfKAzfs4T7j",
        "colab_type": "code",
        "colab": {
          "base_uri": "https://localhost:8080/",
          "height": 119
        },
        "outputId": "fa3fe5a5-d83f-4988-9d61-bc7f27feecae"
      },
      "source": [
        "hours = input(\"Enter movie time hours:\")\n",
        "minutes = input(\"Enter movie time minutes:\")\n",
        "\n",
        "hours = int(hours)\n",
        "minutes = int(minutes)\n",
        "\n",
        "length = hours * 60 + minutes\n",
        "print(hours,\"Hours\",minutes,\"Minutes\",\"movie length is\",length,\"minutes\")\n",
        "\n",
        "hours1=length//60\n",
        "print(hours1)\n",
        "\n",
        "minutes1=length%60\n",
        "print(minutes1)\n",
        "\n",
        "print(length,\"Minutes equals\",hours1,\"Hours\",minutes1,\"Minutes\")"
      ],
      "execution_count": 1,
      "outputs": [
        {
          "output_type": "stream",
          "text": [
            "Enter movie time hours:2\n",
            "Enter movie time minutes:13\n",
            "2 Hours 13 Minutes movie length is 133 minutes\n",
            "2\n",
            "13\n",
            "133 Minutes equals 2 Hours 13 Minutes\n"
          ],
          "name": "stdout"
        }
      ]
    }
  ]
}